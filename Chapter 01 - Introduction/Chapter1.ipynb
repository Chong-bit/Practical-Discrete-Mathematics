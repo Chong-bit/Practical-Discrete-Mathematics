{
  "cells": [
    {
      "cell_type": "markdown",
      "metadata": {
        "id": "o0Qr6xxYWY7T"
      },
      "source": [
        "# Chapter 1 - Introduction: Key Concepts, Notation, Set Theory, Relations, and Functions\n",
        "\n",
        "This notebook contains code accompanying Chapter 1 Introduction: Key Concepts, Notation, Set Theory, Relations, and Functions in *Practical Discrete Mathematics* by Ryan T. White and Archana Tikayat Ray\n",
        "\n",
        "## Functions and Relations\n",
        "\n",
        "### The `sort()` function"
      ]
    },
    {
      "cell_type": "code",
      "execution_count": null,
      "metadata": {
        "id": "z8ajJoUcWY7d",
        "outputId": "75047047-2b1d-4228-8f2e-298be1445c0b",
        "colab": {
          "base_uri": "https://localhost:8080/"
        }
      },
      "outputs": [
        {
          "output_type": "stream",
          "name": "stdout",
          "text": [
            "[1, 2, 3, 4, 5, 8, 9, 12]\n",
            "['Brandon', 'Elise', 'Eugene', 'Kumar', 'Wyatt']\n"
          ]
        }
      ],
      "source": [
        "numbers = [3, 1, 4, 12, 8, 5, 2, 9]\n",
        "names = ['Wyatt', 'Brandon', 'Kumar', 'Eugene', 'Elise']\n",
        "\n",
        "# Apply the sort() function to the lists\n",
        "numbers.sort()\n",
        "names.sort()\n",
        "\n",
        "# Display the output\n",
        "print(numbers)\n",
        "print(names)"
      ]
    },
    {
      "cell_type": "markdown",
      "metadata": {
        "id": "nyupoVsmWY7j"
      },
      "source": [
        "### The `shuffle()` function"
      ]
    },
    {
      "cell_type": "code",
      "execution_count": null,
      "metadata": {
        "id": "Tqsseb7aWY7l",
        "outputId": "5f3318ce-8a6c-450b-aaa3-bb8991327eaf",
        "colab": {
          "base_uri": "https://localhost:8080/"
        }
      },
      "outputs": [
        {
          "output_type": "stream",
          "name": "stdout",
          "text": [
            "[12, 2, 1, 5, 9, 3, 8, 4]\n",
            "[4, 2, 8, 3, 1, 12, 5, 9]\n",
            "[4, 5, 1, 9, 3, 8, 12, 2]\n",
            "[9, 12, 2, 8, 5, 3, 4, 1]\n",
            "[9, 8, 4, 3, 12, 1, 5, 2]\n"
          ]
        }
      ],
      "source": [
        "import random\n",
        "\n",
        "# Set a random seed so the code is reproducible\n",
        "random.seed(1)\n",
        "\n",
        "# Run the random.shuffle() function 5 times and display the outputs\n",
        "for i in range(0,5):\n",
        "    numbers = [3, 1, 4, 12, 8, 5, 2, 9]\n",
        "    random.shuffle(numbers)\n",
        "    print(numbers)"
      ]
    },
    {
      "cell_type": "markdown",
      "source": [
        "this code is about union"
      ],
      "metadata": {
        "id": "ESGFc1weZtwh"
      }
    },
    {
      "cell_type": "code",
      "source": [
        "# Creating two sets of numbers\n",
        "set1 = {1, 2, 3, 4, 5}\n",
        "set2 = {4, 5, 6, 7, 8}\n",
        "\n",
        "# Finding the union of the two sets\n",
        "union_set = set1.union(set2)\n",
        "\n",
        "# Printing the result\n",
        "print(\"Set 1:\", set1)\n",
        "print(\"Set 2:\", set2)\n",
        "print(\"Union of Set 1 and Set 2:\", union_set)"
      ],
      "metadata": {
        "id": "dp7Du6P6ZDDa",
        "outputId": "adeea597-db49-4f4a-c7bd-ebdf596425dc",
        "colab": {
          "base_uri": "https://localhost:8080/"
        }
      },
      "execution_count": null,
      "outputs": [
        {
          "output_type": "stream",
          "name": "stdout",
          "text": [
            "Set 1: {1, 2, 3, 4, 5}\n",
            "Set 2: {4, 5, 6, 7, 8}\n",
            "Union of Set 1 and Set 2: {1, 2, 3, 4, 5, 6, 7, 8}\n"
          ]
        }
      ]
    },
    {
      "cell_type": "markdown",
      "source": [
        "\n",
        "randomly create 2 sets of numbers and find the common numbers in the 2 sets"
      ],
      "metadata": {
        "id": "BancEKroalm-"
      }
    },
    {
      "cell_type": "code",
      "source": [
        "import random\n",
        "\n",
        "# Function to create a set of random numbers\n",
        "def create_random_set(size, lower_bound, upper_bound):\n",
        "    return set(random.randint(lower_bound, upper_bound) for _ in range(size))\n",
        "\n",
        "# Create two sets of random numbers\n",
        "set1 = create_random_set(10, 1, 20)\n",
        "set2 = create_random_set(10, 1, 20)\n",
        "\n",
        "# Find the common numbers in the two sets\n",
        "common_numbers = set1.intersection(set2)\n",
        "\n",
        "# Print the sets and the common numbers\n",
        "print(\"Set 1:\", set1)\n",
        "print(\"Set 2:\", set2)\n",
        "print(\"Common numbers in Set 1 and Set 2:\", common_numbers)\n"
      ],
      "metadata": {
        "id": "Fq6DGfdvabBI",
        "outputId": "af2291bc-9618-4e76-b9e9-d82ad9254387",
        "colab": {
          "base_uri": "https://localhost:8080/"
        }
      },
      "execution_count": null,
      "outputs": [
        {
          "output_type": "stream",
          "name": "stdout",
          "text": [
            "Set 1: {1, 8, 10, 12, 15, 16, 18}\n",
            "Set 2: {4, 6, 10, 11, 14, 17, 18}\n",
            "Common numbers in Set 1 and Set 2: {10, 18}\n"
          ]
        }
      ]
    },
    {
      "cell_type": "markdown",
      "source": [
        "shuffle the character in your name. forexample: apple chan. after shuffle eplepa nhac"
      ],
      "metadata": {
        "id": "5ZI6afIKanH9"
      }
    },
    {
      "cell_type": "code",
      "source": [
        "import random\n",
        "\n",
        "def shuffle_name(name):\n",
        "    # Convert the name to a list of characters\n",
        "    name_list = list(name)\n",
        "    # Shuffle the list of characters\n",
        "    random.shuffle(name_list)\n",
        "    # Join the shuffled characters back into a string\n",
        "    shuffled_name = ''.join(name_list)\n",
        "    return shuffled_name\n",
        "\n",
        "# Example usage\n",
        "name = \"apple chan\"\n",
        "shuffled_name = shuffle_name(name)\n",
        "print(\"Original name:\", name)\n",
        "print(\"Shuffled name:\", shuffled_name)\n"
      ],
      "metadata": {
        "id": "diPGIeShbwyK",
        "outputId": "67be5978-c3ce-44e2-cea3-0ee4eeb630ae",
        "colab": {
          "base_uri": "https://localhost:8080/"
        }
      },
      "execution_count": null,
      "outputs": [
        {
          "output_type": "stream",
          "name": "stdout",
          "text": [
            "Original name: apple chan\n",
            "Shuffled name: pap cnhael\n"
          ]
        }
      ]
    },
    {
      "cell_type": "markdown",
      "source": [
        "extract a table from wikipedia https://en.wikipedia.org/wiki/Frieren"
      ],
      "metadata": {
        "id": "aTu5-MACbOz2"
      }
    },
    {
      "cell_type": "code",
      "source": [
        "import requests\n",
        "from bs4 import BeautifulSoup\n",
        "import pandas as pd\n",
        "\n",
        "# URL of the Wikipedia page\n",
        "url = \"https://en.wikipedia.org/wiki/Frieren\"\n",
        "\n",
        "# Send a GET request to the URL\n",
        "response = requests.get(url)\n",
        "\n",
        "# Parse the HTML content of the page\n",
        "soup = BeautifulSoup(response.content, 'html.parser')\n",
        "\n",
        "# Find the first table in the page (you can adjust this to find a specific table)\n",
        "table = soup.find('table', {'class': 'wikitable'})\n",
        "\n",
        "# Read the HTML table into a pandas DataFrame\n",
        "df = pd.read_html(str(table))\n",
        "\n",
        "# Print the DataFrame\n",
        "print(df)\n"
      ],
      "metadata": {
        "id": "d-6V8cRfcAYO",
        "outputId": "9279d9bf-9933-40b2-e377-1b26b64c6ee9",
        "colab": {
          "base_uri": "https://localhost:8080/"
        }
      },
      "execution_count": null,
      "outputs": [
        {
          "output_type": "stream",
          "name": "stdout",
          "text": [
            "[    Year                                    Award  \\\n",
            "0   2021                          New Manga Award   \n",
            "1   2021                        14th Manga Taishō   \n",
            "2   2021         25th Tezuka Osamu Cultural Prize   \n",
            "3   2021  eBook Initiative Japan [ja] Manga Award   \n",
            "4   2021                45th Kodansha Manga Award   \n",
            "5   2021                 5th Tsutaya Comic Awards   \n",
            "6   2021                     7th Next Manga Award   \n",
            "7   2022                46th Kodansha Manga Award   \n",
            "8   2023        Rakuten Kobo's E-book Manga Award   \n",
            "9   2023              69th Shogakukan Manga Award   \n",
            "10  2024                48th Kodansha Manga Award   \n",
            "11  2024                       36th Harvey Awards   \n",
            "\n",
            "                                             Category     Result          ref.  \n",
            "0                                          Best Manga  2nd place          [74]  \n",
            "1                                         Grand Prize        Won  [75][76][77]  \n",
            "2                                   New Creator Prize        Won  [78][79][80]  \n",
            "3                                         Grand Prize  2nd place      [81][82]  \n",
            "4                                   Best Shōnen Manga  Nominated          [83]  \n",
            "5                                            Next Hit  5th place          [84]  \n",
            "6                                Print Manga Category  3rd place          [85]  \n",
            "7                                   Best Shōnen Manga  Nominated          [86]  \n",
            "8   I Want to Deliver It to the World! Top Recomme...        Won          [87]  \n",
            "9                                                —[b]        Won          [90]  \n",
            "10                                  Best Shōnen Manga        Won      [91][92]  \n",
            "11                                         Best Manga    Pending          [93]  ]\n"
          ]
        },
        {
          "output_type": "stream",
          "name": "stderr",
          "text": [
            "<ipython-input-7-778a43ad789e>:18: FutureWarning: Passing literal html to 'read_html' is deprecated and will be removed in a future version. To read from a literal string, wrap it in a 'StringIO' object.\n",
            "  df = pd.read_html(str(table))\n"
          ]
        }
      ]
    },
    {
      "cell_type": "code",
      "source": [
        "#This code will prompt the user to enter their name and then greet them\n",
        "#Taking user input\n",
        "user_name = input(\"Enter your name: \")\n",
        "\n",
        "#Displaying the greeting message\n",
        "print(f\"Hello, {user_name}! Welcome to Google Colab.\")\n"
      ],
      "metadata": {
        "colab": {
          "base_uri": "https://localhost:8080/"
        },
        "id": "3k6hE_vSVzaL",
        "outputId": "bcd16216-e9b2-49ee-eb3e-516b4bf754e0"
      },
      "execution_count": 1,
      "outputs": [
        {
          "output_type": "stream",
          "name": "stdout",
          "text": [
            "Enter your name: dixon\n",
            "Hello, dixon! Welcome to Google Colab.\n"
          ]
        }
      ]
    },
    {
      "cell_type": "code",
      "source": [
        "def evaluate_expression(p, q):\n",
        "    # Define your logical expression here (e.g., p and q)\n",
        "    return p and q\n",
        "\n",
        "def generate_truth_table():\n",
        "    variables = ['p', 'q']\n",
        "    header = '\\t'.join(variables + ['Expression Result'])\n",
        "    print(header)\n",
        "\n",
        "    for p in [True, False]:\n",
        "        for q in [True, False]:\n",
        "            result = evaluate_expression(p, q)\n",
        "            print(f\"{p}\\t{q}\\t{result}\")\n",
        "\n",
        "#Generate and display the truth table\n",
        "generate_truth_table()"
      ],
      "metadata": {
        "colab": {
          "base_uri": "https://localhost:8080/"
        },
        "id": "SZOJonqZXtY3",
        "outputId": "4711455f-8f0b-47b3-ea4d-077a1d68d6f0"
      },
      "execution_count": 5,
      "outputs": [
        {
          "output_type": "stream",
          "name": "stdout",
          "text": [
            "p\tq\tExpression Result\n",
            "True\tTrue\tTrue\n",
            "True\tFalse\tFalse\n",
            "False\tTrue\tFalse\n",
            "False\tFalse\tFalse\n"
          ]
        }
      ]
    },
    {
      "cell_type": "markdown",
      "source": [
        "#question : take in user input of proposition statement. the output is the table in datafame format\n",
        "\n",
        "EQ:user input:P and Q or not P\n",
        "output shounld be the trusth table\n"
      ],
      "metadata": {
        "id": "1X_9doH3bxZN"
      }
    },
    {
      "cell_type": "code",
      "source": [
        "import pandas as pd\n",
        "import itertools #complex iteration\n",
        "\n",
        "# Function to evaluate the proposition\n",
        "def evaluate_proposition(props, proposition):\n",
        "    results = []\n",
        "    for values in props:\n",
        "        local_vars = {f'P{i+1}': val for i, val in enumerate(values)}\n",
        "        results.append(eval(proposition, {}, local_vars))\n",
        "    return results\n",
        "\n",
        "# Function to generate the truth table\n",
        "def generate_truth_table(proposition, num_vars):\n",
        "    # Generate all combinations of truth values\n",
        "    combinations = list(itertools.product([True, False], repeat=num_vars))\n",
        "\n",
        "    # Evaluate the proposition for each combination\n",
        "    results = evaluate_proposition(combinations, proposition)\n",
        "\n",
        "    # Create a dataframe\n",
        "    columns = [f'P{i+1}' for i in range(num_vars)] + [proposition]\n",
        "    df = pd.DataFrame(combinations, columns=columns[:-1])\n",
        "    df[proposition] = results\n",
        "\n",
        "    return df\n",
        "\n",
        "# User input for proposition and number of variables\n",
        "proposition = input(\"Enter a propositional statement (e.g., 'P1 and P2 or not P3'): \")\n",
        "num_vars = int(input(\"Enter the number of propositional variables: \"))\n",
        "\n",
        "# Generate and display the truth table\n",
        "truth_table = generate_truth_table(proposition, num_vars)\n",
        "print(truth_table)"
      ],
      "metadata": {
        "id": "aSTDo3DTd8Xh",
        "outputId": "c68da529-a50a-4ade-eccf-9797190cd728",
        "colab": {
          "base_uri": "https://localhost:8080/"
        }
      },
      "execution_count": 12,
      "outputs": [
        {
          "output_type": "stream",
          "name": "stdout",
          "text": [
            "Enter a propositional statement (e.g., 'P1 and P2 or not P3'): P1 and P2 or not P3\n",
            "Enter the number of propositional variables: 3\n",
            "      P1     P2     P3  P1 and P2 or not P3\n",
            "0   True   True   True                 True\n",
            "1   True   True  False                 True\n",
            "2   True  False   True                False\n",
            "3   True  False  False                 True\n",
            "4  False   True   True                False\n",
            "5  False   True  False                 True\n",
            "6  False  False   True                False\n",
            "7  False  False  False                 True\n"
          ]
        }
      ]
    },
    {
      "cell_type": "code",
      "source": [
        "import pandas as pd\n",
        "import itertools\n",
        "\n",
        "def generate_truth_table(proposition):\n",
        "    variables = sorted(set(filter(str.isalpha, proposition)))[:2]  # Only consider 2 variables\n",
        "    truth_values = list(itertools.product([True, False], repeat=2))  # Ensure we only have 4 rows\n",
        "    truth_table = []\n",
        "\n",
        "    for values in truth_values:\n",
        "        local_vars = dict(zip(variables, values))\n",
        "        result = eval(proposition, {}, local_vars)\n",
        "        truth_table.append(list(values) + [result])\n",
        "\n",
        "    columns = variables + [proposition]\n",
        "    df = pd.DataFrame(truth_table, columns=columns)\n",
        "    return df\n",
        "\n",
        "# Example usage\n",
        "proposition = '(P and Q) or (not P)'\n",
        "df = generate_truth_table(proposition)\n",
        "print(df)\n"
      ],
      "metadata": {
        "id": "KKBTRGeSf1Zy",
        "outputId": "d7b69a7e-93bd-4312-fdcc-95e371644e11",
        "colab": {
          "base_uri": "https://localhost:8080/"
        }
      },
      "execution_count": 15,
      "outputs": [
        {
          "output_type": "stream",
          "name": "stdout",
          "text": [
            "       P      Q  (P and Q) or (not P)\n",
            "0   True   True                  True\n",
            "1   True  False                 False\n",
            "2  False   True                  True\n",
            "3  False  False                  True\n"
          ]
        }
      ]
    }
  ],
  "metadata": {
    "kernelspec": {
      "display_name": "Python 3",
      "name": "python3"
    },
    "language_info": {
      "name": "python"
    },
    "colab": {
      "provenance": []
    }
  },
  "nbformat": 4,
  "nbformat_minor": 0
}