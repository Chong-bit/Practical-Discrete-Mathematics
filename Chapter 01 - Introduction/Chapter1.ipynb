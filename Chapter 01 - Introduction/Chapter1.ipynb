{
  "cells": [
    {
      "cell_type": "markdown",
      "metadata": {
        "id": "o0Qr6xxYWY7T"
      },
      "source": [
        "# Chapter 1 - Introduction: Key Concepts, Notation, Set Theory, Relations, and Functions\n",
        "\n",
        "This notebook contains code accompanying Chapter 1 Introduction: Key Concepts, Notation, Set Theory, Relations, and Functions in *Practical Discrete Mathematics* by Ryan T. White and Archana Tikayat Ray\n",
        "\n",
        "## Functions and Relations\n",
        "\n",
        "### The `sort()` function"
      ]
    },
    {
      "cell_type": "code",
      "execution_count": 1,
      "metadata": {
        "id": "z8ajJoUcWY7d",
        "outputId": "75047047-2b1d-4228-8f2e-298be1445c0b",
        "colab": {
          "base_uri": "https://localhost:8080/"
        }
      },
      "outputs": [
        {
          "output_type": "stream",
          "name": "stdout",
          "text": [
            "[1, 2, 3, 4, 5, 8, 9, 12]\n",
            "['Brandon', 'Elise', 'Eugene', 'Kumar', 'Wyatt']\n"
          ]
        }
      ],
      "source": [
        "numbers = [3, 1, 4, 12, 8, 5, 2, 9]\n",
        "names = ['Wyatt', 'Brandon', 'Kumar', 'Eugene', 'Elise']\n",
        "\n",
        "# Apply the sort() function to the lists\n",
        "numbers.sort()\n",
        "names.sort()\n",
        "\n",
        "# Display the output\n",
        "print(numbers)\n",
        "print(names)"
      ]
    },
    {
      "cell_type": "markdown",
      "metadata": {
        "id": "nyupoVsmWY7j"
      },
      "source": [
        "### The `shuffle()` function"
      ]
    },
    {
      "cell_type": "code",
      "execution_count": 2,
      "metadata": {
        "id": "Tqsseb7aWY7l",
        "outputId": "5f3318ce-8a6c-450b-aaa3-bb8991327eaf",
        "colab": {
          "base_uri": "https://localhost:8080/"
        }
      },
      "outputs": [
        {
          "output_type": "stream",
          "name": "stdout",
          "text": [
            "[12, 2, 1, 5, 9, 3, 8, 4]\n",
            "[4, 2, 8, 3, 1, 12, 5, 9]\n",
            "[4, 5, 1, 9, 3, 8, 12, 2]\n",
            "[9, 12, 2, 8, 5, 3, 4, 1]\n",
            "[9, 8, 4, 3, 12, 1, 5, 2]\n"
          ]
        }
      ],
      "source": [
        "import random\n",
        "\n",
        "# Set a random seed so the code is reproducible\n",
        "random.seed(1)\n",
        "\n",
        "# Run the random.shuffle() function 5 times and display the outputs\n",
        "for i in range(0,5):\n",
        "    numbers = [3, 1, 4, 12, 8, 5, 2, 9]\n",
        "    random.shuffle(numbers)\n",
        "    print(numbers)"
      ]
    },
    {
      "cell_type": "markdown",
      "source": [
        "this code is about union"
      ],
      "metadata": {
        "id": "ESGFc1weZtwh"
      }
    },
    {
      "cell_type": "code",
      "source": [
        "# Creating two sets of numbers\n",
        "set1 = {1, 2, 3, 4, 5}\n",
        "set2 = {4, 5, 6, 7, 8}\n",
        "\n",
        "# Finding the union of the two sets\n",
        "union_set = set1.union(set2)\n",
        "\n",
        "# Printing the result\n",
        "print(\"Set 1:\", set1)\n",
        "print(\"Set 2:\", set2)\n",
        "print(\"Union of Set 1 and Set 2:\", union_set)"
      ],
      "metadata": {
        "id": "dp7Du6P6ZDDa",
        "outputId": "adeea597-db49-4f4a-c7bd-ebdf596425dc",
        "colab": {
          "base_uri": "https://localhost:8080/"
        }
      },
      "execution_count": 4,
      "outputs": [
        {
          "output_type": "stream",
          "name": "stdout",
          "text": [
            "Set 1: {1, 2, 3, 4, 5}\n",
            "Set 2: {4, 5, 6, 7, 8}\n",
            "Union of Set 1 and Set 2: {1, 2, 3, 4, 5, 6, 7, 8}\n"
          ]
        }
      ]
    },
    {
      "cell_type": "markdown",
      "source": [
        "\n",
        "randomly create 2 sets of numbers and find the common numbers in the 2 sets"
      ],
      "metadata": {
        "id": "BancEKroalm-"
      }
    },
    {
      "cell_type": "code",
      "source": [
        "import random\n",
        "\n",
        "# Function to create a set of random numbers\n",
        "def create_random_set(size, lower_bound, upper_bound):\n",
        "    return set(random.randint(lower_bound, upper_bound) for _ in range(size))\n",
        "\n",
        "# Create two sets of random numbers\n",
        "set1 = create_random_set(10, 1, 20)\n",
        "set2 = create_random_set(10, 1, 20)\n",
        "\n",
        "# Find the common numbers in the two sets\n",
        "common_numbers = set1.intersection(set2)\n",
        "\n",
        "# Print the sets and the common numbers\n",
        "print(\"Set 1:\", set1)\n",
        "print(\"Set 2:\", set2)\n",
        "print(\"Common numbers in Set 1 and Set 2:\", common_numbers)\n"
      ],
      "metadata": {
        "id": "Fq6DGfdvabBI",
        "outputId": "af2291bc-9618-4e76-b9e9-d82ad9254387",
        "colab": {
          "base_uri": "https://localhost:8080/"
        }
      },
      "execution_count": 5,
      "outputs": [
        {
          "output_type": "stream",
          "name": "stdout",
          "text": [
            "Set 1: {1, 8, 10, 12, 15, 16, 18}\n",
            "Set 2: {4, 6, 10, 11, 14, 17, 18}\n",
            "Common numbers in Set 1 and Set 2: {10, 18}\n"
          ]
        }
      ]
    },
    {
      "cell_type": "markdown",
      "source": [
        "shuffle the character in your name. forexample: apple chan. after shuffle eplepa nhac"
      ],
      "metadata": {
        "id": "5ZI6afIKanH9"
      }
    },
    {
      "cell_type": "code",
      "source": [
        "import random\n",
        "\n",
        "def shuffle_name(name):\n",
        "    # Convert the name to a list of characters\n",
        "    name_list = list(name)\n",
        "    # Shuffle the list of characters\n",
        "    random.shuffle(name_list)\n",
        "    # Join the shuffled characters back into a string\n",
        "    shuffled_name = ''.join(name_list)\n",
        "    return shuffled_name\n",
        "\n",
        "# Example usage\n",
        "name = \"apple chan\"\n",
        "shuffled_name = shuffle_name(name)\n",
        "print(\"Original name:\", name)\n",
        "print(\"Shuffled name:\", shuffled_name)\n"
      ],
      "metadata": {
        "id": "diPGIeShbwyK",
        "outputId": "67be5978-c3ce-44e2-cea3-0ee4eeb630ae",
        "colab": {
          "base_uri": "https://localhost:8080/"
        }
      },
      "execution_count": 6,
      "outputs": [
        {
          "output_type": "stream",
          "name": "stdout",
          "text": [
            "Original name: apple chan\n",
            "Shuffled name: pap cnhael\n"
          ]
        }
      ]
    },
    {
      "cell_type": "markdown",
      "source": [
        "extract a table from wikipedia https://en.wikipedia.org/wiki/Frieren"
      ],
      "metadata": {
        "id": "aTu5-MACbOz2"
      }
    },
    {
      "cell_type": "code",
      "source": [
        "import requests\n",
        "from bs4 import BeautifulSoup\n",
        "import pandas as pd\n",
        "\n",
        "# URL of the Wikipedia page\n",
        "url = \"https://en.wikipedia.org/wiki/Frieren\"\n",
        "\n",
        "# Send a GET request to the URL\n",
        "response = requests.get(url)\n",
        "\n",
        "# Parse the HTML content of the page\n",
        "soup = BeautifulSoup(response.content, 'html.parser')\n",
        "\n",
        "# Find the first table in the page (you can adjust this to find a specific table)\n",
        "table = soup.find('table', {'class': 'wikitable'})\n",
        "\n",
        "# Read the HTML table into a pandas DataFrame\n",
        "df = pd.read_html(str(table))\n",
        "\n",
        "# Print the DataFrame\n",
        "print(df)\n"
      ],
      "metadata": {
        "id": "d-6V8cRfcAYO",
        "outputId": "9279d9bf-9933-40b2-e377-1b26b64c6ee9",
        "colab": {
          "base_uri": "https://localhost:8080/"
        }
      },
      "execution_count": 7,
      "outputs": [
        {
          "output_type": "stream",
          "name": "stdout",
          "text": [
            "[    Year                                    Award  \\\n",
            "0   2021                          New Manga Award   \n",
            "1   2021                        14th Manga Taishō   \n",
            "2   2021         25th Tezuka Osamu Cultural Prize   \n",
            "3   2021  eBook Initiative Japan [ja] Manga Award   \n",
            "4   2021                45th Kodansha Manga Award   \n",
            "5   2021                 5th Tsutaya Comic Awards   \n",
            "6   2021                     7th Next Manga Award   \n",
            "7   2022                46th Kodansha Manga Award   \n",
            "8   2023        Rakuten Kobo's E-book Manga Award   \n",
            "9   2023              69th Shogakukan Manga Award   \n",
            "10  2024                48th Kodansha Manga Award   \n",
            "11  2024                       36th Harvey Awards   \n",
            "\n",
            "                                             Category     Result          ref.  \n",
            "0                                          Best Manga  2nd place          [74]  \n",
            "1                                         Grand Prize        Won  [75][76][77]  \n",
            "2                                   New Creator Prize        Won  [78][79][80]  \n",
            "3                                         Grand Prize  2nd place      [81][82]  \n",
            "4                                   Best Shōnen Manga  Nominated          [83]  \n",
            "5                                            Next Hit  5th place          [84]  \n",
            "6                                Print Manga Category  3rd place          [85]  \n",
            "7                                   Best Shōnen Manga  Nominated          [86]  \n",
            "8   I Want to Deliver It to the World! Top Recomme...        Won          [87]  \n",
            "9                                                —[b]        Won          [90]  \n",
            "10                                  Best Shōnen Manga        Won      [91][92]  \n",
            "11                                         Best Manga    Pending          [93]  ]\n"
          ]
        },
        {
          "output_type": "stream",
          "name": "stderr",
          "text": [
            "<ipython-input-7-778a43ad789e>:18: FutureWarning: Passing literal html to 'read_html' is deprecated and will be removed in a future version. To read from a literal string, wrap it in a 'StringIO' object.\n",
            "  df = pd.read_html(str(table))\n"
          ]
        }
      ]
    }
  ],
  "metadata": {
    "kernelspec": {
      "display_name": "Python 3",
      "name": "python3"
    },
    "language_info": {
      "name": "python"
    },
    "colab": {
      "provenance": []
    }
  },
  "nbformat": 4,
  "nbformat_minor": 0
}